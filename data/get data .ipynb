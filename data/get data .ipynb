{
 "cells": [
  {
   "cell_type": "code",
   "execution_count": 136,
   "metadata": {
    "collapsed": true
   },
   "outputs": [],
   "source": [
    "import pandas as pd\n",
    "import numpy as np\n",
    "import json\n",
    "from matplotlib.path import Path\n",
    "import datetime"
   ]
  },
  {
   "cell_type": "code",
   "execution_count": 361,
   "metadata": {
    "collapsed": true
   },
   "outputs": [],
   "source": [
    "dt = pd.read_csv('Data_3_provs.csv',sep=';')"
   ]
  },
  {
   "cell_type": "code",
   "execution_count": 362,
   "metadata": {
    "collapsed": true
   },
   "outputs": [],
   "source": [
    "dt = dt[dt.Provider != 0]"
   ]
  },
  {
   "cell_type": "code",
   "execution_count": 363,
   "metadata": {
    "collapsed": true
   },
   "outputs": [],
   "source": [
    "dt = dt.reset_index()"
   ]
  },
  {
   "cell_type": "code",
   "execution_count": 27,
   "metadata": {
    "collapsed": false
   },
   "outputs": [],
   "source": [
    "with open('carsharing_map.json', 'r') as outfile:\n",
    "    carsharing_map = json.load(outfile)"
   ]
  },
  {
   "cell_type": "code",
   "execution_count": 46,
   "metadata": {
    "collapsed": false
   },
   "outputs": [],
   "source": [
    "for i in range(len(carsharing_map['features'])):\n",
    "    names.append(carsharing_map['features'][i]['properties']['NAME'])"
   ]
  },
  {
   "cell_type": "code",
   "execution_count": 468,
   "metadata": {
    "collapsed": true
   },
   "outputs": [],
   "source": [
    "# рыба для конечного результата\n",
    "df = pd.DataFrame({'MO_Name':names,'Weekday':np.nan,'Hour':np.nan})\n",
    "\n",
    "weekdays = ['пн','вт','ср','чт','пт','сб','вс']\n",
    "\n",
    "dt_full = pd.DataFrame(columns={'MO_Name','Weekday','Hour'})\n",
    "\n",
    "for weekday in weekdays:\n",
    "    for hour in range(24):\n",
    "        df['Weekday'] = weekday\n",
    "        df['Hour'] = hour\n",
    "        dt_full = pd.concat([dt_full, df])\n",
    "\n",
    "dt_full['Number'] = np.random.uniform(low=0,high=100,size=dt_full.shape[0])\n",
    "dt_full = dt_full[['MO_Name','Weekday','Hour','Number']]\n",
    "dt_full.to_csv('sample_data_result.csv',index=False,sep=';')"
   ]
  },
  {
   "cell_type": "markdown",
   "metadata": {},
   "source": [
    "# данные для анализа"
   ]
  },
  {
   "cell_type": "code",
   "execution_count": 501,
   "metadata": {
    "collapsed": false
   },
   "outputs": [
    {
     "data": {
      "text/html": [
       "<div>\n",
       "<table border=\"1\" class=\"dataframe\">\n",
       "  <thead>\n",
       "    <tr style=\"text-align: right;\">\n",
       "      <th></th>\n",
       "      <th>index</th>\n",
       "      <th>Provider</th>\n",
       "      <th>Group</th>\n",
       "      <th>Longitude</th>\n",
       "      <th>StartTime</th>\n",
       "      <th>EndTime</th>\n",
       "      <th>Latitude</th>\n",
       "      <th>MinEpooch</th>\n",
       "      <th>MaxEpoch</th>\n",
       "      <th>MO_name</th>\n",
       "    </tr>\n",
       "  </thead>\n",
       "  <tbody>\n",
       "    <tr>\n",
       "      <th>0</th>\n",
       "      <td>168</td>\n",
       "      <td>1</td>\n",
       "      <td>2553</td>\n",
       "      <td>37.610218</td>\n",
       "      <td>2016-02-18 00:28:21.737</td>\n",
       "      <td>2016-02-18 05:59:41.237</td>\n",
       "      <td>55.653446</td>\n",
       "      <td>30514</td>\n",
       "      <td>30624</td>\n",
       "      <td>Нагорный</td>\n",
       "    </tr>\n",
       "    <tr>\n",
       "      <th>1</th>\n",
       "      <td>169</td>\n",
       "      <td>1</td>\n",
       "      <td>2554</td>\n",
       "      <td>37.610138</td>\n",
       "      <td>2016-02-18 06:11:42.990</td>\n",
       "      <td>2016-02-18 13:38:12.500</td>\n",
       "      <td>55.653488</td>\n",
       "      <td>30628</td>\n",
       "      <td>30776</td>\n",
       "      <td>Нагорный</td>\n",
       "    </tr>\n",
       "    <tr>\n",
       "      <th>2</th>\n",
       "      <td>170</td>\n",
       "      <td>1</td>\n",
       "      <td>2555</td>\n",
       "      <td>37.785305</td>\n",
       "      <td>2016-02-18 16:03:00.683</td>\n",
       "      <td>2016-02-18 16:45:16.857</td>\n",
       "      <td>55.748455</td>\n",
       "      <td>30824</td>\n",
       "      <td>30838</td>\n",
       "      <td>Перово</td>\n",
       "    </tr>\n",
       "    <tr>\n",
       "      <th>3</th>\n",
       "      <td>171</td>\n",
       "      <td>1</td>\n",
       "      <td>2556</td>\n",
       "      <td>37.776054</td>\n",
       "      <td>2016-02-18 17:27:31.890</td>\n",
       "      <td>2016-02-19 03:27:23.177</td>\n",
       "      <td>55.746761</td>\n",
       "      <td>30852</td>\n",
       "      <td>31051</td>\n",
       "      <td>Перово</td>\n",
       "    </tr>\n",
       "    <tr>\n",
       "      <th>4</th>\n",
       "      <td>172</td>\n",
       "      <td>1</td>\n",
       "      <td>2557</td>\n",
       "      <td>37.772121</td>\n",
       "      <td>2016-02-19 03:45:29.040</td>\n",
       "      <td>2016-02-19 14:55:31.493</td>\n",
       "      <td>55.757855</td>\n",
       "      <td>31057</td>\n",
       "      <td>31279</td>\n",
       "      <td>Перово</td>\n",
       "    </tr>\n",
       "  </tbody>\n",
       "</table>\n",
       "</div>"
      ],
      "text/plain": [
       "   index  Provider  Group  Longitude               StartTime  \\\n",
       "0    168         1   2553  37.610218 2016-02-18 00:28:21.737   \n",
       "1    169         1   2554  37.610138 2016-02-18 06:11:42.990   \n",
       "2    170         1   2555  37.785305 2016-02-18 16:03:00.683   \n",
       "3    171         1   2556  37.776054 2016-02-18 17:27:31.890   \n",
       "4    172         1   2557  37.772121 2016-02-19 03:45:29.040   \n",
       "\n",
       "                  EndTime   Latitude  MinEpooch  MaxEpoch   MO_name  \n",
       "0 2016-02-18 05:59:41.237  55.653446      30514     30624  Нагорный  \n",
       "1 2016-02-18 13:38:12.500  55.653488      30628     30776  Нагорный  \n",
       "2 2016-02-18 16:45:16.857  55.748455      30824     30838    Перово  \n",
       "3 2016-02-19 03:27:23.177  55.746761      30852     31051    Перово  \n",
       "4 2016-02-19 14:55:31.493  55.757855      31057     31279    Перово  "
      ]
     },
     "execution_count": 501,
     "metadata": {},
     "output_type": "execute_result"
    }
   ],
   "source": [
    "dt.head()"
   ]
  },
  {
   "cell_type": "code",
   "execution_count": null,
   "metadata": {
    "collapsed": true
   },
   "outputs": [],
   "source": [
    "dt.StartTime = pd.to_datetime(dt.StartTime, format='%Y-%m-%d %H:%M:%S.%f')\n",
    "dt.EndTime = pd.to_datetime(dt.EndTime, format='%Y-%m-%d %H:%M:%S.%f')"
   ]
  },
  {
   "cell_type": "code",
   "execution_count": 365,
   "metadata": {
    "collapsed": true
   },
   "outputs": [],
   "source": [
    "dt = dt[dt.StartTime > pd.to_datetime('2016-02-18',format ='%Y-%m-%d')]"
   ]
  },
  {
   "cell_type": "code",
   "execution_count": null,
   "metadata": {
    "collapsed": true
   },
   "outputs": [],
   "source": [
    "def reproject(latitude, longitude):\n",
    "    \"\"\"Returns the x & y coordinates in meters using a sinusoidal projection\"\"\"\n",
    "    from math import pi, cos, radians\n",
    "    earth_radius = 6371009 # in meters\n",
    "    lat_dist = pi * earth_radius / 180.0\n",
    "\n",
    "    y = [lat * lat_dist for lat in latitude]\n",
    "    x = [long * lat_dist * cos(radians(lat)) \n",
    "                for lat, long in zip(latitude, longitude)]\n",
    "    return x, y\n",
    "\n",
    "def area_of_polygon(x, y):\n",
    "    # возвращаем площадь полигода в квадратных километрах\n",
    "    area = 0.0\n",
    "    for i in range(-1, len(x)-1):\n",
    "        area += x[i] * (y[i+1] - y[i-1])\n",
    "    return abs(area) / 2.0 / 10 ** 6\n",
    "\n",
    "Sq = []\n",
    "for mo in range(len(carsharing_map['features'])):\n",
    "    \n",
    "    coords = pd.DataFrame(carsharing_map['features'][mo]['geometry']['coordinates'][0],columns = {'long','lat'})\n",
    "\n",
    "    x,y=reproject(coords['lat'], coords['long'])\n",
    "    S = area_of_polygon(x,y)\n",
    "    Sq.append((carsharing_map['features'][mo]['properties']['NAME'],S))\n",
    "    \n",
    "Sq = pd.DataFrame(Sq,columns = {'MO_name','km_sq'})"
   ]
  },
  {
   "cell_type": "code",
   "execution_count": null,
   "metadata": {
    "collapsed": true
   },
   "outputs": [],
   "source": [
    "dt['HourStart'] = dt.StartTime.dt.hour\n",
    "dt['HourEnd'] = dt.EndTime.dt.hour\n",
    "\n",
    "dt['WeekdayStart'] = dt.StartTime.dt.weekday + 1\n",
    "dt['WeekdayEnd'] = dt.EndTime.dt.weekday + 1"
   ]
  },
  {
   "cell_type": "code",
   "execution_count": 502,
   "metadata": {
    "collapsed": true
   },
   "outputs": [],
   "source": [
    "dt['timediff'] = dt['EndTime']-dt['StartTime']"
   ]
  },
  {
   "cell_type": "code",
   "execution_count": 262,
   "metadata": {
    "collapsed": false
   },
   "outputs": [
    {
     "data": {
      "text/plain": [
       "Timedelta('21 days 09:52:21.230000')"
      ]
     },
     "execution_count": 262,
     "metadata": {},
     "output_type": "execute_result"
    }
   ],
   "source": [
    "dt['timediff'].max()"
   ]
  },
  {
   "cell_type": "code",
   "execution_count": 367,
   "metadata": {
    "collapsed": true
   },
   "outputs": [],
   "source": [
    "# восстановить район по координатам\n",
    "def get_polygons(geojson):\n",
    "    # функция возвращает многоугольники районов\n",
    "    polygons = []\n",
    "    for AO_num in range(len(geojson['features'])):\n",
    "        AO_name = geojson['features'][AO_num]['properties']['NAME']\n",
    "        AO_borders = geojson['features'][AO_num]['geometry']['coordinates']\n",
    "        AO_num_polygons = len(AO_borders)\n",
    "        # для каждого многоугольника в районе делаем лист ['название района','лист с координатами'],\n",
    "        # добавляем в общий список\n",
    "        for plg in range(AO_num_polygons):\n",
    "            if AO_num_polygons == 1:\n",
    "                plg_coordinates = [AO_name, AO_borders[plg]]\n",
    "            else:\n",
    "                plg_coordinates = [AO_name, AO_borders[plg][0]]\n",
    "            polygons.append(plg_coordinates)\n",
    "    return polygons"
   ]
  },
  {
   "cell_type": "code",
   "execution_count": 368,
   "metadata": {
    "collapsed": true
   },
   "outputs": [],
   "source": [
    "polygons = get_polygons(carsharing_map)\n",
    "polygons = [[i[0],Path(i[1])] for i in polygons]"
   ]
  },
  {
   "cell_type": "code",
   "execution_count": 369,
   "metadata": {
    "collapsed": true
   },
   "outputs": [],
   "source": [
    "def get_dot_region(dot, polygons):\n",
    "    # функция возвращает район для точки\n",
    "    # dot: [longitude,latitude]\n",
    "    regions = []\n",
    "    for reg in polygons:\n",
    "        if reg[1].contains_point([dot['Longitude'], dot['Latitude']]):\n",
    "            regions.append(reg[0])\n",
    "            break\n",
    "    if regions == []:\n",
    "        regions.append('Другой')\n",
    "    return regions"
   ]
  },
  {
   "cell_type": "code",
   "execution_count": 370,
   "metadata": {
    "collapsed": false
   },
   "outputs": [
    {
     "name": "stdout",
     "output_type": "stream",
     "text": [
      "0:06:03.060693\n"
     ]
    }
   ],
   "source": [
    "# добавляем название района к точке \n",
    "# dt['AO_name'] = np.nan\n",
    "st = datetime.datetime.now()\n",
    "dt['MO_name'] = dt.ix[:,['Longitude','Latitude']].apply(lambda x: get_dot_region(x, polygons), axis=1)\n",
    "en = datetime.datetime.now() - st\n",
    "print(en)"
   ]
  },
  {
   "cell_type": "code",
   "execution_count": 371,
   "metadata": {
    "collapsed": true
   },
   "outputs": [],
   "source": [
    "dt.MO_name = dt.MO_name.apply(lambda x: str(x).replace('[','').replace(']','').replace(\"'\",''))"
   ]
  },
  {
   "cell_type": "code",
   "execution_count": null,
   "metadata": {
    "collapsed": true
   },
   "outputs": [],
   "source": [
    "dt = dt.reset_index()"
   ]
  },
  {
   "cell_type": "code",
   "execution_count": 523,
   "metadata": {
    "collapsed": false
   },
   "outputs": [
    {
     "data": {
      "text/html": [
       "<div>\n",
       "<table border=\"1\" class=\"dataframe\">\n",
       "  <thead>\n",
       "    <tr style=\"text-align: right;\">\n",
       "      <th></th>\n",
       "      <th>index</th>\n",
       "      <th>Provider</th>\n",
       "      <th>Group</th>\n",
       "      <th>Longitude</th>\n",
       "      <th>StartTime</th>\n",
       "      <th>EndTime</th>\n",
       "      <th>Latitude</th>\n",
       "      <th>MinEpooch</th>\n",
       "      <th>MaxEpoch</th>\n",
       "      <th>MO_name</th>\n",
       "      <th>timediff</th>\n",
       "    </tr>\n",
       "  </thead>\n",
       "  <tbody>\n",
       "    <tr>\n",
       "      <th>0</th>\n",
       "      <td>168</td>\n",
       "      <td>1</td>\n",
       "      <td>2553</td>\n",
       "      <td>37.610218</td>\n",
       "      <td>2016-02-18 00:28:21.737</td>\n",
       "      <td>2016-02-18 05:59:41.237</td>\n",
       "      <td>55.653446</td>\n",
       "      <td>30514</td>\n",
       "      <td>30624</td>\n",
       "      <td>Нагорный</td>\n",
       "      <td>05:31:19.500000</td>\n",
       "    </tr>\n",
       "    <tr>\n",
       "      <th>1</th>\n",
       "      <td>169</td>\n",
       "      <td>1</td>\n",
       "      <td>2554</td>\n",
       "      <td>37.610138</td>\n",
       "      <td>2016-02-18 06:11:42.990</td>\n",
       "      <td>2016-02-18 13:38:12.500</td>\n",
       "      <td>55.653488</td>\n",
       "      <td>30628</td>\n",
       "      <td>30776</td>\n",
       "      <td>Нагорный</td>\n",
       "      <td>07:26:29.510000</td>\n",
       "    </tr>\n",
       "    <tr>\n",
       "      <th>2</th>\n",
       "      <td>170</td>\n",
       "      <td>1</td>\n",
       "      <td>2555</td>\n",
       "      <td>37.785305</td>\n",
       "      <td>2016-02-18 16:03:00.683</td>\n",
       "      <td>2016-02-18 16:45:16.857</td>\n",
       "      <td>55.748455</td>\n",
       "      <td>30824</td>\n",
       "      <td>30838</td>\n",
       "      <td>Перово</td>\n",
       "      <td>00:42:16.174000</td>\n",
       "    </tr>\n",
       "    <tr>\n",
       "      <th>3</th>\n",
       "      <td>171</td>\n",
       "      <td>1</td>\n",
       "      <td>2556</td>\n",
       "      <td>37.776054</td>\n",
       "      <td>2016-02-18 17:27:31.890</td>\n",
       "      <td>2016-02-19 03:27:23.177</td>\n",
       "      <td>55.746761</td>\n",
       "      <td>30852</td>\n",
       "      <td>31051</td>\n",
       "      <td>Перово</td>\n",
       "      <td>09:59:51.287000</td>\n",
       "    </tr>\n",
       "    <tr>\n",
       "      <th>4</th>\n",
       "      <td>172</td>\n",
       "      <td>1</td>\n",
       "      <td>2557</td>\n",
       "      <td>37.772121</td>\n",
       "      <td>2016-02-19 03:45:29.040</td>\n",
       "      <td>2016-02-19 14:55:31.493</td>\n",
       "      <td>55.757855</td>\n",
       "      <td>31057</td>\n",
       "      <td>31279</td>\n",
       "      <td>Перово</td>\n",
       "      <td>11:10:02.453000</td>\n",
       "    </tr>\n",
       "  </tbody>\n",
       "</table>\n",
       "</div>"
      ],
      "text/plain": [
       "   index  Provider  Group  Longitude               StartTime  \\\n",
       "0    168         1   2553  37.610218 2016-02-18 00:28:21.737   \n",
       "1    169         1   2554  37.610138 2016-02-18 06:11:42.990   \n",
       "2    170         1   2555  37.785305 2016-02-18 16:03:00.683   \n",
       "3    171         1   2556  37.776054 2016-02-18 17:27:31.890   \n",
       "4    172         1   2557  37.772121 2016-02-19 03:45:29.040   \n",
       "\n",
       "                  EndTime   Latitude  MinEpooch  MaxEpoch   MO_name  \\\n",
       "0 2016-02-18 05:59:41.237  55.653446      30514     30624  Нагорный   \n",
       "1 2016-02-18 13:38:12.500  55.653488      30628     30776  Нагорный   \n",
       "2 2016-02-18 16:45:16.857  55.748455      30824     30838    Перово   \n",
       "3 2016-02-19 03:27:23.177  55.746761      30852     31051    Перово   \n",
       "4 2016-02-19 14:55:31.493  55.757855      31057     31279    Перово   \n",
       "\n",
       "         timediff  \n",
       "0 05:31:19.500000  \n",
       "1 07:26:29.510000  \n",
       "2 00:42:16.174000  \n",
       "3 09:59:51.287000  \n",
       "4 11:10:02.453000  "
      ]
     },
     "execution_count": 523,
     "metadata": {},
     "output_type": "execute_result"
    }
   ],
   "source": [
    "dt.head()"
   ]
  },
  {
   "cell_type": "code",
   "execution_count": 539,
   "metadata": {
    "collapsed": true
   },
   "outputs": [],
   "source": [
    "def get_time_intervals(start, end, reg, provider):\n",
    "    st = start - datetime.timedelta(minutes=start.minute,\n",
    "                           seconds=start.second,\n",
    "                           microseconds=start.microsecond)\n",
    "    en = end - datetime.timedelta(minutes=end.minute,\n",
    "                             seconds=end.second,\n",
    "                             microseconds=end.microsecond)\n",
    "    step = datetime.timedelta(hours=1)\n",
    "    \n",
    "    result = []\n",
    "    while st < en:\n",
    "        result.append((reg,st.weekday()+1,st.hour, provider))\n",
    "        st += step\n",
    "    \n",
    "    return result"
   ]
  },
  {
   "cell_type": "markdown",
   "metadata": {},
   "source": [
    "# разбивка по провайдерам"
   ]
  },
  {
   "cell_type": "code",
   "execution_count": 533,
   "metadata": {
    "collapsed": true
   },
   "outputs": [],
   "source": [
    "c1 = dt.Provider == 1\n",
    "c2 = dt.Provider == 2\n",
    "c3 = dt.Provider == 3\n",
    "c12 = (dt.Provider == 1) & (dt.Provider == 2)\n",
    "c23 = (dt.Provider == 3) & (dt.Provider == 2)\n",
    "c12 = (dt.Provider == 1) & (dt.Provider == 3)"
   ]
  },
  {
   "cell_type": "code",
   "execution_count": 536,
   "metadata": {
    "collapsed": false
   },
   "outputs": [
    {
     "data": {
      "text/html": [
       "<div>\n",
       "<table border=\"1\" class=\"dataframe\">\n",
       "  <thead>\n",
       "    <tr style=\"text-align: right;\">\n",
       "      <th></th>\n",
       "      <th>index</th>\n",
       "      <th>Provider</th>\n",
       "      <th>Group</th>\n",
       "      <th>Longitude</th>\n",
       "      <th>StartTime</th>\n",
       "      <th>EndTime</th>\n",
       "      <th>Latitude</th>\n",
       "      <th>MinEpooch</th>\n",
       "      <th>MaxEpoch</th>\n",
       "      <th>MO_name</th>\n",
       "      <th>timediff</th>\n",
       "    </tr>\n",
       "  </thead>\n",
       "  <tbody>\n",
       "    <tr>\n",
       "      <th>0</th>\n",
       "      <td>168</td>\n",
       "      <td>1</td>\n",
       "      <td>2553</td>\n",
       "      <td>37.610218</td>\n",
       "      <td>2016-02-18 00:28:21.737</td>\n",
       "      <td>2016-02-18 05:59:41.237</td>\n",
       "      <td>55.653446</td>\n",
       "      <td>30514</td>\n",
       "      <td>30624</td>\n",
       "      <td>Нагорный</td>\n",
       "      <td>05:31:19.500000</td>\n",
       "    </tr>\n",
       "    <tr>\n",
       "      <th>1</th>\n",
       "      <td>169</td>\n",
       "      <td>1</td>\n",
       "      <td>2554</td>\n",
       "      <td>37.610138</td>\n",
       "      <td>2016-02-18 06:11:42.990</td>\n",
       "      <td>2016-02-18 13:38:12.500</td>\n",
       "      <td>55.653488</td>\n",
       "      <td>30628</td>\n",
       "      <td>30776</td>\n",
       "      <td>Нагорный</td>\n",
       "      <td>07:26:29.510000</td>\n",
       "    </tr>\n",
       "    <tr>\n",
       "      <th>2</th>\n",
       "      <td>170</td>\n",
       "      <td>1</td>\n",
       "      <td>2555</td>\n",
       "      <td>37.785305</td>\n",
       "      <td>2016-02-18 16:03:00.683</td>\n",
       "      <td>2016-02-18 16:45:16.857</td>\n",
       "      <td>55.748455</td>\n",
       "      <td>30824</td>\n",
       "      <td>30838</td>\n",
       "      <td>Перово</td>\n",
       "      <td>00:42:16.174000</td>\n",
       "    </tr>\n",
       "    <tr>\n",
       "      <th>3</th>\n",
       "      <td>171</td>\n",
       "      <td>1</td>\n",
       "      <td>2556</td>\n",
       "      <td>37.776054</td>\n",
       "      <td>2016-02-18 17:27:31.890</td>\n",
       "      <td>2016-02-19 03:27:23.177</td>\n",
       "      <td>55.746761</td>\n",
       "      <td>30852</td>\n",
       "      <td>31051</td>\n",
       "      <td>Перово</td>\n",
       "      <td>09:59:51.287000</td>\n",
       "    </tr>\n",
       "    <tr>\n",
       "      <th>4</th>\n",
       "      <td>172</td>\n",
       "      <td>1</td>\n",
       "      <td>2557</td>\n",
       "      <td>37.772121</td>\n",
       "      <td>2016-02-19 03:45:29.040</td>\n",
       "      <td>2016-02-19 14:55:31.493</td>\n",
       "      <td>55.757855</td>\n",
       "      <td>31057</td>\n",
       "      <td>31279</td>\n",
       "      <td>Перово</td>\n",
       "      <td>11:10:02.453000</td>\n",
       "    </tr>\n",
       "  </tbody>\n",
       "</table>\n",
       "</div>"
      ],
      "text/plain": [
       "   index  Provider  Group  Longitude               StartTime  \\\n",
       "0    168         1   2553  37.610218 2016-02-18 00:28:21.737   \n",
       "1    169         1   2554  37.610138 2016-02-18 06:11:42.990   \n",
       "2    170         1   2555  37.785305 2016-02-18 16:03:00.683   \n",
       "3    171         1   2556  37.776054 2016-02-18 17:27:31.890   \n",
       "4    172         1   2557  37.772121 2016-02-19 03:45:29.040   \n",
       "\n",
       "                  EndTime   Latitude  MinEpooch  MaxEpoch   MO_name  \\\n",
       "0 2016-02-18 05:59:41.237  55.653446      30514     30624  Нагорный   \n",
       "1 2016-02-18 13:38:12.500  55.653488      30628     30776  Нагорный   \n",
       "2 2016-02-18 16:45:16.857  55.748455      30824     30838    Перово   \n",
       "3 2016-02-19 03:27:23.177  55.746761      30852     31051    Перово   \n",
       "4 2016-02-19 14:55:31.493  55.757855      31057     31279    Перово   \n",
       "\n",
       "         timediff  \n",
       "0 05:31:19.500000  \n",
       "1 07:26:29.510000  \n",
       "2 00:42:16.174000  \n",
       "3 09:59:51.287000  \n",
       "4 11:10:02.453000  "
      ]
     },
     "execution_count": 536,
     "metadata": {},
     "output_type": "execute_result"
    }
   ],
   "source": [
    "dt.head()"
   ]
  },
  {
   "cell_type": "code",
   "execution_count": 540,
   "metadata": {
    "collapsed": false
   },
   "outputs": [
    {
     "name": "stdout",
     "output_type": "stream",
     "text": [
      "Wall time: 19.6 s\n"
     ]
    }
   ],
   "source": [
    "%%time\n",
    "# собираем общую таблицу\n",
    "r = []\n",
    "for row in range(dt.shape[0]):\n",
    "    r.append(get_time_intervals(dt['StartTime'][row], dt['EndTime'][row], dt['MO_Name'][row],dt['Provider'][row]))"
   ]
  },
  {
   "cell_type": "code",
   "execution_count": 542,
   "metadata": {
    "collapsed": false
   },
   "outputs": [
    {
     "name": "stdout",
     "output_type": "stream",
     "text": [
      "10000\n",
      "20000\n",
      "30000\n",
      "40000\n",
      "50000\n",
      "60000\n",
      "70000\n",
      "80000\n",
      "90000\n",
      "100000\n",
      "110000\n",
      "120000\n",
      "130000\n",
      "140000\n",
      "150000\n",
      "160000\n",
      "Wall time: 5min 11s\n"
     ]
    }
   ],
   "source": [
    "%%time\n",
    "list_10k = []\n",
    "n = 0\n",
    "while n < len(r):\n",
    "    result_dt = pd.DataFrame(columns={'MO_Name','Weekday','Hour','Provider'})\n",
    "    for d in r[n:n+1000]:\n",
    "        \n",
    "        result_dt = pd.concat([result_dt, pd.DataFrame(r[n], columns={'MO_name','Weekday','Hour','Provider'})])\n",
    "        n += 1\n",
    "    #     for row in d:\n",
    "    #         result_dt = result_dt.append(pd.DataFrame({'MO_name':[row[0]],'Weekday':[row[1]],'Hour':[row[2]]}))\n",
    "    list_10k.append(result_dt)\n",
    "    if n %10000==0:\n",
    "        print(n)"
   ]
  },
  {
   "cell_type": "code",
   "execution_count": 563,
   "metadata": {
    "collapsed": true
   },
   "outputs": [],
   "source": [
    "result_dt = pd.DataFrame(columns={'MO_Name','Weekday','Hour','Provider'})\n",
    "for frame in list_10k:\n",
    "    result_dt = result_dt.append(frame)\n",
    "\n",
    "result_dt.columns = ['MO_Name','Weekday','Hour','Provider']\n",
    "result_dt_gr = result_dt.groupby(['MO_Name','Weekday','Hour','Provider']).size().reset_index()\n",
    "result_dt_gr.columns = ['MO_Name','Weekday','Hour','Provider','Count']"
   ]
  },
  {
   "cell_type": "code",
   "execution_count": 564,
   "metadata": {
    "collapsed": true
   },
   "outputs": [],
   "source": [
    "minDate = dt.StartTime.min()\n",
    "maxDate = dt.StartTime.max()\n",
    "\n",
    "t1 = pd.DataFrame(get_time_intervals(minDate, maxDate, 'reg',1))\n",
    "t2 = pd.DataFrame(get_time_intervals(minDate, maxDate, 'reg',2))\n",
    "t3 = pd.DataFrame(get_time_intervals(minDate, maxDate, 'reg',3))\n",
    "t1.columns=['c','Weekday','Hour','Provider']\n",
    "t2.columns=['c','Weekday','Hour','Provider']\n",
    "t3.columns=['c','Weekday','Hour','Provider']\n",
    "\n",
    "t = pd.concat([t1,t2,t3])\n",
    "del t['c']"
   ]
  },
  {
   "cell_type": "code",
   "execution_count": 565,
   "metadata": {
    "collapsed": false
   },
   "outputs": [],
   "source": [
    "t=t.groupby(['Weekday','Hour','Provider']).size().reset_index()\n",
    "t.columns = ['Weekday','Hour','Provider','N']"
   ]
  },
  {
   "cell_type": "code",
   "execution_count": 590,
   "metadata": {
    "collapsed": false
   },
   "outputs": [
    {
     "data": {
      "text/html": [
       "<div>\n",
       "<table border=\"1\" class=\"dataframe\">\n",
       "  <thead>\n",
       "    <tr style=\"text-align: right;\">\n",
       "      <th></th>\n",
       "      <th>MO_Name</th>\n",
       "      <th>Weekday</th>\n",
       "      <th>Hour</th>\n",
       "      <th>Number</th>\n",
       "      <th>Provider</th>\n",
       "    </tr>\n",
       "  </thead>\n",
       "  <tbody>\n",
       "    <tr>\n",
       "      <th>0</th>\n",
       "      <td>Академический</td>\n",
       "      <td>1</td>\n",
       "      <td>0</td>\n",
       "      <td>0.234679</td>\n",
       "      <td>1</td>\n",
       "    </tr>\n",
       "    <tr>\n",
       "      <th>1</th>\n",
       "      <td>Академический</td>\n",
       "      <td>1</td>\n",
       "      <td>0</td>\n",
       "      <td>0.093871</td>\n",
       "      <td>2</td>\n",
       "    </tr>\n",
       "    <tr>\n",
       "      <th>2</th>\n",
       "      <td>Академический</td>\n",
       "      <td>1</td>\n",
       "      <td>0</td>\n",
       "      <td>0.109517</td>\n",
       "      <td>3</td>\n",
       "    </tr>\n",
       "    <tr>\n",
       "      <th>3</th>\n",
       "      <td>Академический</td>\n",
       "      <td>1</td>\n",
       "      <td>1</td>\n",
       "      <td>0.234679</td>\n",
       "      <td>1</td>\n",
       "    </tr>\n",
       "    <tr>\n",
       "      <th>4</th>\n",
       "      <td>Академический</td>\n",
       "      <td>1</td>\n",
       "      <td>1</td>\n",
       "      <td>0.125162</td>\n",
       "      <td>2</td>\n",
       "    </tr>\n",
       "  </tbody>\n",
       "</table>\n",
       "</div>"
      ],
      "text/plain": [
       "         MO_Name  Weekday  Hour    Number  Provider\n",
       "0  Академический        1     0  0.234679         1\n",
       "1  Академический        1     0  0.093871         2\n",
       "2  Академический        1     0  0.109517         3\n",
       "3  Академический        1     1  0.234679         1\n",
       "4  Академический        1     1  0.125162         2"
      ]
     },
     "execution_count": 590,
     "metadata": {},
     "output_type": "execute_result"
    }
   ],
   "source": [
    "result_dt_gr.head()"
   ]
  },
  {
   "cell_type": "code",
   "execution_count": 567,
   "metadata": {
    "collapsed": false
   },
   "outputs": [],
   "source": [
    "result_dt_gr = pd.merge(result_dt_gr, t, on = ['Weekday','Hour','Provider'], how= 'left')"
   ]
  },
  {
   "cell_type": "code",
   "execution_count": null,
   "metadata": {
    "collapsed": true
   },
   "outputs": [],
   "source": [
    "result_dt_gr = pd.merge(result_dt_gr,Sq, on ='MO_name', how='left')\n",
    "\n",
    "result_dt_gr['Number'] = result_dt_gr['Count'] / result_dt_gr['N'] / result_dt_gr['km_sq']\n",
    "\n",
    "result_dt_gr = result_dt_gr[['MO_Name','Weekday','Hour','Number','Provider']]\n",
    "# result_dt_gr.columns = ['MO_Name','Weekday','Hour','Number','Provider']"
   ]
  },
  {
   "cell_type": "code",
   "execution_count": 602,
   "metadata": {
    "collapsed": true
   },
   "outputs": [],
   "source": [
    "result_dt_gr.Weekday = result_dt_gr.Weekday.map({1:'пн',2:'вт',3:'ср',4:'чт',5:'пт',6:'сб',7:'вс'})"
   ]
  },
  {
   "cell_type": "code",
   "execution_count": null,
   "metadata": {
    "collapsed": true
   },
   "outputs": [],
   "source": [
    "dt_full1 = dt_full.copy()\n",
    "dt_full1['Provider'] = 1\n",
    "\n",
    "dt_full2 = dt_full.copy()\n",
    "dt_full2['Provider'] = 2\n",
    "\n",
    "dt_full3 = dt_full.copy()\n",
    "dt_full3['Provider'] = 3\n",
    "\n",
    "dt_full_provider = pd.concat([dt_full1,dt_full2,dt_full3])\n",
    "del dt_full_provider['Number']"
   ]
  },
  {
   "cell_type": "code",
   "execution_count": 604,
   "metadata": {
    "collapsed": false
   },
   "outputs": [
    {
     "data": {
      "text/html": [
       "<div>\n",
       "<table border=\"1\" class=\"dataframe\">\n",
       "  <thead>\n",
       "    <tr style=\"text-align: right;\">\n",
       "      <th></th>\n",
       "      <th>MO_Name</th>\n",
       "      <th>Weekday</th>\n",
       "      <th>Hour</th>\n",
       "      <th>Number</th>\n",
       "      <th>Provider</th>\n",
       "    </tr>\n",
       "  </thead>\n",
       "  <tbody>\n",
       "    <tr>\n",
       "      <th>0</th>\n",
       "      <td>Академический</td>\n",
       "      <td>пн</td>\n",
       "      <td>0</td>\n",
       "      <td>0.234679</td>\n",
       "      <td>1</td>\n",
       "    </tr>\n",
       "    <tr>\n",
       "      <th>1</th>\n",
       "      <td>Академический</td>\n",
       "      <td>пн</td>\n",
       "      <td>0</td>\n",
       "      <td>0.093871</td>\n",
       "      <td>2</td>\n",
       "    </tr>\n",
       "    <tr>\n",
       "      <th>2</th>\n",
       "      <td>Академический</td>\n",
       "      <td>пн</td>\n",
       "      <td>0</td>\n",
       "      <td>0.109517</td>\n",
       "      <td>3</td>\n",
       "    </tr>\n",
       "    <tr>\n",
       "      <th>3</th>\n",
       "      <td>Академический</td>\n",
       "      <td>пн</td>\n",
       "      <td>1</td>\n",
       "      <td>0.234679</td>\n",
       "      <td>1</td>\n",
       "    </tr>\n",
       "    <tr>\n",
       "      <th>4</th>\n",
       "      <td>Академический</td>\n",
       "      <td>пн</td>\n",
       "      <td>1</td>\n",
       "      <td>0.125162</td>\n",
       "      <td>2</td>\n",
       "    </tr>\n",
       "  </tbody>\n",
       "</table>\n",
       "</div>"
      ],
      "text/plain": [
       "         MO_Name Weekday  Hour    Number  Provider\n",
       "0  Академический      пн     0  0.234679         1\n",
       "1  Академический      пн     0  0.093871         2\n",
       "2  Академический      пн     0  0.109517         3\n",
       "3  Академический      пн     1  0.234679         1\n",
       "4  Академический      пн     1  0.125162         2"
      ]
     },
     "execution_count": 604,
     "metadata": {},
     "output_type": "execute_result"
    }
   ],
   "source": [
    "result_dt_gr.head()"
   ]
  },
  {
   "cell_type": "code",
   "execution_count": 603,
   "metadata": {
    "collapsed": false
   },
   "outputs": [],
   "source": [
    "dt_full_actual = pd.merge(dt_full_provider, \n",
    "                          result_dt_gr, \n",
    "                          how = 'left', \n",
    "                          on = ['MO_Name','Weekday','Hour','Provider'])\n",
    "\n",
    "# dt_full_actual\n",
    "dt_full_actual.fillna(0,inplace=True)"
   ]
  },
  {
   "cell_type": "code",
   "execution_count": 605,
   "metadata": {
    "collapsed": true
   },
   "outputs": [],
   "source": [
    "dt_full_actual.to_csv('real_data_result_with_provider.csv',index=False,sep=';')"
   ]
  },
  {
   "cell_type": "code",
   "execution_count": 469,
   "metadata": {
    "collapsed": false
   },
   "outputs": [
    {
     "data": {
      "text/plain": [
       "5.505045488819615"
      ]
     },
     "execution_count": 469,
     "metadata": {},
     "output_type": "execute_result"
    }
   ],
   "source": [
    "dt_full_actual.Number.max()"
   ]
  },
  {
   "cell_type": "code",
   "execution_count": 471,
   "metadata": {
    "collapsed": true
   },
   "outputs": [],
   "source": [
    "# создаем пустую карту Москвы\n",
    "import folium"
   ]
  },
  {
   "cell_type": "code",
   "execution_count": 520,
   "metadata": {
    "collapsed": false
   },
   "outputs": [],
   "source": [
    "MSC_COORDINATES = (55.75, 37.67) \n",
    "\n",
    "Mow_map = folium.Map(location=MSC_COORDINATES, zoom_start=10)\n",
    "\n",
    "Mow_map.choropleth(geo_str=json.dumps(carsharing_map),\n",
    "                    data = dtt,\n",
    "                    columns = ['MO_Name', 'Number'],\n",
    "                    key_on = 'feature.properties.NAME',\n",
    "                    fill_color = 'RdYlGn',\n",
    "                   threshold_scale =  list(dtt.Number.quantile([0,0.25,0.5,0.75,1])),#[0, 1, 2, 3, 4.15],\n",
    "                    fill_opacity = 0.75, # Прозрачность\n",
    "                    line_opacity = 0.5, # толщина линии\n",
    "                    legend_name = 'Количество машин по округам'\n",
    "                  )\n",
    "    \n",
    "#Mow_map.choropleth(geo_path=mos_reg_data_MO)\n",
    "Mow_map.save(outfile='carsharing_map.html')"
   ]
  },
  {
   "cell_type": "code",
   "execution_count": null,
   "metadata": {
    "collapsed": true
   },
   "outputs": [],
   "source": [
    "dtt = dt_full_actual[(dt_full_actual.Weekday == 'вт') & (dt_full_actual.Hour == 11)][['MO_Name','Number']]\n",
    "#dtt.ix[dtt.Number > 3,'Number'] = 3"
   ]
  },
  {
   "cell_type": "code",
   "execution_count": 519,
   "metadata": {
    "collapsed": false
   },
   "outputs": [
    {
     "data": {
      "text/plain": [
       "[0.0,\n",
       " 0.3440579380125266,\n",
       " 0.54662723169580363,\n",
       " 0.76576204798996605,\n",
       " 4.1496365616481183]"
      ]
     },
     "execution_count": 519,
     "metadata": {},
     "output_type": "execute_result"
    }
   ],
   "source": [
    "list(dtt.Number.quantile([0,0.25,0.5,0.75,1]))"
   ]
  },
  {
   "cell_type": "code",
   "execution_count": 482,
   "metadata": {
    "collapsed": false
   },
   "outputs": [
    {
     "data": {
      "text/html": [
       "<div>\n",
       "<table border=\"1\" class=\"dataframe\">\n",
       "  <thead>\n",
       "    <tr style=\"text-align: right;\">\n",
       "      <th></th>\n",
       "      <th>MO_Name</th>\n",
       "      <th>Number</th>\n",
       "    </tr>\n",
       "  </thead>\n",
       "  <tbody>\n",
       "    <tr>\n",
       "      <th>928</th>\n",
       "      <td>Филёвский Парк</td>\n",
       "      <td>0.434490</td>\n",
       "    </tr>\n",
       "    <tr>\n",
       "      <th>929</th>\n",
       "      <td>Щукино</td>\n",
       "      <td>0.279059</td>\n",
       "    </tr>\n",
       "    <tr>\n",
       "      <th>930</th>\n",
       "      <td>Нагатинский Затон</td>\n",
       "      <td>0.195782</td>\n",
       "    </tr>\n",
       "    <tr>\n",
       "      <th>931</th>\n",
       "      <td>Дмитровский</td>\n",
       "      <td>0.200786</td>\n",
       "    </tr>\n",
       "    <tr>\n",
       "      <th>932</th>\n",
       "      <td>Тёплый Стан</td>\n",
       "      <td>0.329866</td>\n",
       "    </tr>\n",
       "  </tbody>\n",
       "</table>\n",
       "</div>"
      ],
      "text/plain": [
       "               MO_Name    Number\n",
       "928     Филёвский Парк  0.434490\n",
       "929             Щукино  0.279059\n",
       "930  Нагатинский Затон  0.195782\n",
       "931        Дмитровский  0.200786\n",
       "932        Тёплый Стан  0.329866"
      ]
     },
     "execution_count": 482,
     "metadata": {},
     "output_type": "execute_result"
    }
   ],
   "source": [
    "dtt.head()"
   ]
  },
  {
   "cell_type": "code",
   "execution_count": 521,
   "metadata": {
    "collapsed": false
   },
   "outputs": [
    {
     "data": {
      "text/html": [
       "<div>\n",
       "<table border=\"1\" class=\"dataframe\">\n",
       "  <thead>\n",
       "    <tr style=\"text-align: right;\">\n",
       "      <th></th>\n",
       "      <th>index</th>\n",
       "      <th>Provider</th>\n",
       "      <th>Group</th>\n",
       "      <th>Longitude</th>\n",
       "      <th>StartTime</th>\n",
       "      <th>EndTime</th>\n",
       "      <th>Latitude</th>\n",
       "      <th>MinEpooch</th>\n",
       "      <th>MaxEpoch</th>\n",
       "      <th>MO_name</th>\n",
       "      <th>timediff</th>\n",
       "    </tr>\n",
       "  </thead>\n",
       "  <tbody>\n",
       "    <tr>\n",
       "      <th>0</th>\n",
       "      <td>168</td>\n",
       "      <td>1</td>\n",
       "      <td>2553</td>\n",
       "      <td>37.610218</td>\n",
       "      <td>2016-02-18 00:28:21.737</td>\n",
       "      <td>2016-02-18 05:59:41.237</td>\n",
       "      <td>55.653446</td>\n",
       "      <td>30514</td>\n",
       "      <td>30624</td>\n",
       "      <td>Нагорный</td>\n",
       "      <td>05:31:19.500000</td>\n",
       "    </tr>\n",
       "    <tr>\n",
       "      <th>1</th>\n",
       "      <td>169</td>\n",
       "      <td>1</td>\n",
       "      <td>2554</td>\n",
       "      <td>37.610138</td>\n",
       "      <td>2016-02-18 06:11:42.990</td>\n",
       "      <td>2016-02-18 13:38:12.500</td>\n",
       "      <td>55.653488</td>\n",
       "      <td>30628</td>\n",
       "      <td>30776</td>\n",
       "      <td>Нагорный</td>\n",
       "      <td>07:26:29.510000</td>\n",
       "    </tr>\n",
       "    <tr>\n",
       "      <th>2</th>\n",
       "      <td>170</td>\n",
       "      <td>1</td>\n",
       "      <td>2555</td>\n",
       "      <td>37.785305</td>\n",
       "      <td>2016-02-18 16:03:00.683</td>\n",
       "      <td>2016-02-18 16:45:16.857</td>\n",
       "      <td>55.748455</td>\n",
       "      <td>30824</td>\n",
       "      <td>30838</td>\n",
       "      <td>Перово</td>\n",
       "      <td>00:42:16.174000</td>\n",
       "    </tr>\n",
       "    <tr>\n",
       "      <th>3</th>\n",
       "      <td>171</td>\n",
       "      <td>1</td>\n",
       "      <td>2556</td>\n",
       "      <td>37.776054</td>\n",
       "      <td>2016-02-18 17:27:31.890</td>\n",
       "      <td>2016-02-19 03:27:23.177</td>\n",
       "      <td>55.746761</td>\n",
       "      <td>30852</td>\n",
       "      <td>31051</td>\n",
       "      <td>Перово</td>\n",
       "      <td>09:59:51.287000</td>\n",
       "    </tr>\n",
       "    <tr>\n",
       "      <th>4</th>\n",
       "      <td>172</td>\n",
       "      <td>1</td>\n",
       "      <td>2557</td>\n",
       "      <td>37.772121</td>\n",
       "      <td>2016-02-19 03:45:29.040</td>\n",
       "      <td>2016-02-19 14:55:31.493</td>\n",
       "      <td>55.757855</td>\n",
       "      <td>31057</td>\n",
       "      <td>31279</td>\n",
       "      <td>Перово</td>\n",
       "      <td>11:10:02.453000</td>\n",
       "    </tr>\n",
       "  </tbody>\n",
       "</table>\n",
       "</div>"
      ],
      "text/plain": [
       "   index  Provider  Group  Longitude               StartTime  \\\n",
       "0    168         1   2553  37.610218 2016-02-18 00:28:21.737   \n",
       "1    169         1   2554  37.610138 2016-02-18 06:11:42.990   \n",
       "2    170         1   2555  37.785305 2016-02-18 16:03:00.683   \n",
       "3    171         1   2556  37.776054 2016-02-18 17:27:31.890   \n",
       "4    172         1   2557  37.772121 2016-02-19 03:45:29.040   \n",
       "\n",
       "                  EndTime   Latitude  MinEpooch  MaxEpoch   MO_name  \\\n",
       "0 2016-02-18 05:59:41.237  55.653446      30514     30624  Нагорный   \n",
       "1 2016-02-18 13:38:12.500  55.653488      30628     30776  Нагорный   \n",
       "2 2016-02-18 16:45:16.857  55.748455      30824     30838    Перово   \n",
       "3 2016-02-19 03:27:23.177  55.746761      30852     31051    Перово   \n",
       "4 2016-02-19 14:55:31.493  55.757855      31057     31279    Перово   \n",
       "\n",
       "         timediff  \n",
       "0 05:31:19.500000  \n",
       "1 07:26:29.510000  \n",
       "2 00:42:16.174000  \n",
       "3 09:59:51.287000  \n",
       "4 11:10:02.453000  "
      ]
     },
     "execution_count": 521,
     "metadata": {},
     "output_type": "execute_result"
    }
   ],
   "source": [
    "dt.head()"
   ]
  },
  {
   "cell_type": "code",
   "execution_count": 522,
   "metadata": {
    "collapsed": false
   },
   "outputs": [
    {
     "data": {
      "text/html": [
       "<div>\n",
       "<table border=\"1\" class=\"dataframe\">\n",
       "  <thead>\n",
       "    <tr style=\"text-align: right;\">\n",
       "      <th></th>\n",
       "      <th>MO_Name</th>\n",
       "      <th>Weekday</th>\n",
       "      <th>Hour</th>\n",
       "      <th>Number</th>\n",
       "    </tr>\n",
       "  </thead>\n",
       "  <tbody>\n",
       "    <tr>\n",
       "      <th>0</th>\n",
       "      <td>Филёвский Парк</td>\n",
       "      <td>пн</td>\n",
       "      <td>0</td>\n",
       "      <td>0.517691</td>\n",
       "    </tr>\n",
       "    <tr>\n",
       "      <th>1</th>\n",
       "      <td>Щукино</td>\n",
       "      <td>пн</td>\n",
       "      <td>0</td>\n",
       "      <td>0.390682</td>\n",
       "    </tr>\n",
       "    <tr>\n",
       "      <th>2</th>\n",
       "      <td>Нагатинский Затон</td>\n",
       "      <td>пн</td>\n",
       "      <td>0</td>\n",
       "      <td>0.289011</td>\n",
       "    </tr>\n",
       "    <tr>\n",
       "      <th>3</th>\n",
       "      <td>Дмитровский</td>\n",
       "      <td>пн</td>\n",
       "      <td>0</td>\n",
       "      <td>0.276080</td>\n",
       "    </tr>\n",
       "    <tr>\n",
       "      <th>4</th>\n",
       "      <td>Тёплый Стан</td>\n",
       "      <td>пн</td>\n",
       "      <td>0</td>\n",
       "      <td>0.574606</td>\n",
       "    </tr>\n",
       "    <tr>\n",
       "      <th>5</th>\n",
       "      <td>Ховрино</td>\n",
       "      <td>пн</td>\n",
       "      <td>0</td>\n",
       "      <td>1.111829</td>\n",
       "    </tr>\n",
       "    <tr>\n",
       "      <th>6</th>\n",
       "      <td>Ломоносовский</td>\n",
       "      <td>пн</td>\n",
       "      <td>0</td>\n",
       "      <td>0.883905</td>\n",
       "    </tr>\n",
       "    <tr>\n",
       "      <th>7</th>\n",
       "      <td>Можайский</td>\n",
       "      <td>пн</td>\n",
       "      <td>0</td>\n",
       "      <td>0.551371</td>\n",
       "    </tr>\n",
       "    <tr>\n",
       "      <th>8</th>\n",
       "      <td>Строгино</td>\n",
       "      <td>пн</td>\n",
       "      <td>0</td>\n",
       "      <td>0.211781</td>\n",
       "    </tr>\n",
       "    <tr>\n",
       "      <th>9</th>\n",
       "      <td>Крылатское</td>\n",
       "      <td>пн</td>\n",
       "      <td>0</td>\n",
       "      <td>0.555621</td>\n",
       "    </tr>\n",
       "    <tr>\n",
       "      <th>10</th>\n",
       "      <td>Головинский</td>\n",
       "      <td>пн</td>\n",
       "      <td>0</td>\n",
       "      <td>0.473480</td>\n",
       "    </tr>\n",
       "    <tr>\n",
       "      <th>11</th>\n",
       "      <td>Южное Тушино</td>\n",
       "      <td>пн</td>\n",
       "      <td>0</td>\n",
       "      <td>0.326267</td>\n",
       "    </tr>\n",
       "    <tr>\n",
       "      <th>12</th>\n",
       "      <td>Северное Тушино</td>\n",
       "      <td>пн</td>\n",
       "      <td>0</td>\n",
       "      <td>0.528366</td>\n",
       "    </tr>\n",
       "    <tr>\n",
       "      <th>13</th>\n",
       "      <td>Черёмушки</td>\n",
       "      <td>пн</td>\n",
       "      <td>0</td>\n",
       "      <td>0.865810</td>\n",
       "    </tr>\n",
       "    <tr>\n",
       "      <th>14</th>\n",
       "      <td>Покровское-Стрешнево</td>\n",
       "      <td>пн</td>\n",
       "      <td>0</td>\n",
       "      <td>0.244338</td>\n",
       "    </tr>\n",
       "    <tr>\n",
       "      <th>15</th>\n",
       "      <td>Хорошёво-Мнёвники</td>\n",
       "      <td>пн</td>\n",
       "      <td>0</td>\n",
       "      <td>0.360023</td>\n",
       "    </tr>\n",
       "    <tr>\n",
       "      <th>16</th>\n",
       "      <td>Очаково-Матвеевское</td>\n",
       "      <td>пн</td>\n",
       "      <td>0</td>\n",
       "      <td>0.375439</td>\n",
       "    </tr>\n",
       "    <tr>\n",
       "      <th>17</th>\n",
       "      <td>Тропарёво-Никулино</td>\n",
       "      <td>пн</td>\n",
       "      <td>0</td>\n",
       "      <td>0.562203</td>\n",
       "    </tr>\n",
       "    <tr>\n",
       "      <th>18</th>\n",
       "      <td>Левобережный</td>\n",
       "      <td>пн</td>\n",
       "      <td>0</td>\n",
       "      <td>0.609488</td>\n",
       "    </tr>\n",
       "    <tr>\n",
       "      <th>19</th>\n",
       "      <td>Фили-Давыдково</td>\n",
       "      <td>пн</td>\n",
       "      <td>0</td>\n",
       "      <td>0.854535</td>\n",
       "    </tr>\n",
       "    <tr>\n",
       "      <th>20</th>\n",
       "      <td>Обручевский</td>\n",
       "      <td>пн</td>\n",
       "      <td>0</td>\n",
       "      <td>0.664151</td>\n",
       "    </tr>\n",
       "    <tr>\n",
       "      <th>21</th>\n",
       "      <td>Раменки</td>\n",
       "      <td>пн</td>\n",
       "      <td>0</td>\n",
       "      <td>0.853571</td>\n",
       "    </tr>\n",
       "    <tr>\n",
       "      <th>22</th>\n",
       "      <td>Войковский</td>\n",
       "      <td>пн</td>\n",
       "      <td>0</td>\n",
       "      <td>1.114905</td>\n",
       "    </tr>\n",
       "    <tr>\n",
       "      <th>23</th>\n",
       "      <td>Сокол</td>\n",
       "      <td>пн</td>\n",
       "      <td>0</td>\n",
       "      <td>1.500170</td>\n",
       "    </tr>\n",
       "    <tr>\n",
       "      <th>24</th>\n",
       "      <td>Западное Дегунино</td>\n",
       "      <td>пн</td>\n",
       "      <td>0</td>\n",
       "      <td>0.326936</td>\n",
       "    </tr>\n",
       "    <tr>\n",
       "      <th>25</th>\n",
       "      <td>Проспект Вернадского</td>\n",
       "      <td>пн</td>\n",
       "      <td>0</td>\n",
       "      <td>0.474075</td>\n",
       "    </tr>\n",
       "    <tr>\n",
       "      <th>26</th>\n",
       "      <td>Ясенево</td>\n",
       "      <td>пн</td>\n",
       "      <td>0</td>\n",
       "      <td>0.172911</td>\n",
       "    </tr>\n",
       "    <tr>\n",
       "      <th>27</th>\n",
       "      <td>Дорогомилово</td>\n",
       "      <td>пн</td>\n",
       "      <td>0</td>\n",
       "      <td>0.719795</td>\n",
       "    </tr>\n",
       "    <tr>\n",
       "      <th>28</th>\n",
       "      <td>Коньково</td>\n",
       "      <td>пн</td>\n",
       "      <td>0</td>\n",
       "      <td>0.960328</td>\n",
       "    </tr>\n",
       "    <tr>\n",
       "      <th>29</th>\n",
       "      <td>Хорошёвский</td>\n",
       "      <td>пн</td>\n",
       "      <td>0</td>\n",
       "      <td>0.986799</td>\n",
       "    </tr>\n",
       "    <tr>\n",
       "      <th>...</th>\n",
       "      <td>...</td>\n",
       "      <td>...</td>\n",
       "      <td>...</td>\n",
       "      <td>...</td>\n",
       "    </tr>\n",
       "    <tr>\n",
       "      <th>19458</th>\n",
       "      <td>Перово</td>\n",
       "      <td>вс</td>\n",
       "      <td>23</td>\n",
       "      <td>0.853449</td>\n",
       "    </tr>\n",
       "    <tr>\n",
       "      <th>19459</th>\n",
       "      <td>Орехово-Борисово Южное</td>\n",
       "      <td>вс</td>\n",
       "      <td>23</td>\n",
       "      <td>0.617613</td>\n",
       "    </tr>\n",
       "    <tr>\n",
       "      <th>19460</th>\n",
       "      <td>Марьино</td>\n",
       "      <td>вс</td>\n",
       "      <td>23</td>\n",
       "      <td>0.677976</td>\n",
       "    </tr>\n",
       "    <tr>\n",
       "      <th>19461</th>\n",
       "      <td>Вешняки</td>\n",
       "      <td>вс</td>\n",
       "      <td>23</td>\n",
       "      <td>0.501795</td>\n",
       "    </tr>\n",
       "    <tr>\n",
       "      <th>19462</th>\n",
       "      <td>Преображенское</td>\n",
       "      <td>вс</td>\n",
       "      <td>23</td>\n",
       "      <td>1.102012</td>\n",
       "    </tr>\n",
       "    <tr>\n",
       "      <th>19463</th>\n",
       "      <td>Соколиная Гора</td>\n",
       "      <td>вс</td>\n",
       "      <td>23</td>\n",
       "      <td>0.666284</td>\n",
       "    </tr>\n",
       "    <tr>\n",
       "      <th>19464</th>\n",
       "      <td>Люблино</td>\n",
       "      <td>вс</td>\n",
       "      <td>23</td>\n",
       "      <td>0.331694</td>\n",
       "    </tr>\n",
       "    <tr>\n",
       "      <th>19465</th>\n",
       "      <td>Текстильщики</td>\n",
       "      <td>вс</td>\n",
       "      <td>23</td>\n",
       "      <td>0.671070</td>\n",
       "    </tr>\n",
       "    <tr>\n",
       "      <th>19466</th>\n",
       "      <td>Братеево</td>\n",
       "      <td>вс</td>\n",
       "      <td>23</td>\n",
       "      <td>0.675180</td>\n",
       "    </tr>\n",
       "    <tr>\n",
       "      <th>19467</th>\n",
       "      <td>Зябликово</td>\n",
       "      <td>вс</td>\n",
       "      <td>23</td>\n",
       "      <td>1.052362</td>\n",
       "    </tr>\n",
       "    <tr>\n",
       "      <th>19468</th>\n",
       "      <td>Рязанский</td>\n",
       "      <td>вс</td>\n",
       "      <td>23</td>\n",
       "      <td>0.520031</td>\n",
       "    </tr>\n",
       "    <tr>\n",
       "      <th>19469</th>\n",
       "      <td>Измайлово</td>\n",
       "      <td>вс</td>\n",
       "      <td>23</td>\n",
       "      <td>0.350064</td>\n",
       "    </tr>\n",
       "    <tr>\n",
       "      <th>19470</th>\n",
       "      <td>Новогиреево</td>\n",
       "      <td>вс</td>\n",
       "      <td>23</td>\n",
       "      <td>0.711912</td>\n",
       "    </tr>\n",
       "    <tr>\n",
       "      <th>19471</th>\n",
       "      <td>Кузьминки</td>\n",
       "      <td>вс</td>\n",
       "      <td>23</td>\n",
       "      <td>0.414599</td>\n",
       "    </tr>\n",
       "    <tr>\n",
       "      <th>19472</th>\n",
       "      <td>Гольяново</td>\n",
       "      <td>вс</td>\n",
       "      <td>23</td>\n",
       "      <td>0.415979</td>\n",
       "    </tr>\n",
       "    <tr>\n",
       "      <th>19473</th>\n",
       "      <td>Северное Измайлово</td>\n",
       "      <td>вс</td>\n",
       "      <td>23</td>\n",
       "      <td>0.771887</td>\n",
       "    </tr>\n",
       "    <tr>\n",
       "      <th>19474</th>\n",
       "      <td>Капотня</td>\n",
       "      <td>вс</td>\n",
       "      <td>23</td>\n",
       "      <td>0.066412</td>\n",
       "    </tr>\n",
       "    <tr>\n",
       "      <th>19475</th>\n",
       "      <td>Выхино-Жулебино</td>\n",
       "      <td>вс</td>\n",
       "      <td>23</td>\n",
       "      <td>0.518757</td>\n",
       "    </tr>\n",
       "    <tr>\n",
       "      <th>19476</th>\n",
       "      <td>Восточное Измайлово</td>\n",
       "      <td>вс</td>\n",
       "      <td>23</td>\n",
       "      <td>0.842080</td>\n",
       "    </tr>\n",
       "    <tr>\n",
       "      <th>19477</th>\n",
       "      <td>Ивановское</td>\n",
       "      <td>вс</td>\n",
       "      <td>23</td>\n",
       "      <td>0.503049</td>\n",
       "    </tr>\n",
       "    <tr>\n",
       "      <th>19478</th>\n",
       "      <td>Кунцево</td>\n",
       "      <td>вс</td>\n",
       "      <td>23</td>\n",
       "      <td>0.343260</td>\n",
       "    </tr>\n",
       "    <tr>\n",
       "      <th>19479</th>\n",
       "      <td>Саларьево-Румянцево</td>\n",
       "      <td>вс</td>\n",
       "      <td>23</td>\n",
       "      <td>0.148731</td>\n",
       "    </tr>\n",
       "    <tr>\n",
       "      <th>19480</th>\n",
       "      <td>Южное Бутово</td>\n",
       "      <td>вс</td>\n",
       "      <td>23</td>\n",
       "      <td>0.599573</td>\n",
       "    </tr>\n",
       "    <tr>\n",
       "      <th>19481</th>\n",
       "      <td>Выхино</td>\n",
       "      <td>вс</td>\n",
       "      <td>23</td>\n",
       "      <td>0.634581</td>\n",
       "    </tr>\n",
       "    <tr>\n",
       "      <th>19482</th>\n",
       "      <td>Мякинино-Волоколамская-Митино-Пятницкое шоссе</td>\n",
       "      <td>вс</td>\n",
       "      <td>23</td>\n",
       "      <td>0.672421</td>\n",
       "    </tr>\n",
       "    <tr>\n",
       "      <th>19483</th>\n",
       "      <td>Бульвар Дмитрия Донского</td>\n",
       "      <td>вс</td>\n",
       "      <td>23</td>\n",
       "      <td>1.086324</td>\n",
       "    </tr>\n",
       "    <tr>\n",
       "      <th>19484</th>\n",
       "      <td>Новокосино</td>\n",
       "      <td>вс</td>\n",
       "      <td>23</td>\n",
       "      <td>0.971974</td>\n",
       "    </tr>\n",
       "    <tr>\n",
       "      <th>19485</th>\n",
       "      <td>Аэропорт Шереметьево</td>\n",
       "      <td>вс</td>\n",
       "      <td>23</td>\n",
       "      <td>0.057175</td>\n",
       "    </tr>\n",
       "    <tr>\n",
       "      <th>19486</th>\n",
       "      <td>Аэропорт Домодедово</td>\n",
       "      <td>вс</td>\n",
       "      <td>23</td>\n",
       "      <td>0.000000</td>\n",
       "    </tr>\n",
       "    <tr>\n",
       "      <th>19487</th>\n",
       "      <td>Аэропорт Внуково</td>\n",
       "      <td>вс</td>\n",
       "      <td>23</td>\n",
       "      <td>0.000000</td>\n",
       "    </tr>\n",
       "  </tbody>\n",
       "</table>\n",
       "<p>19488 rows × 4 columns</p>\n",
       "</div>"
      ],
      "text/plain": [
       "                                             MO_Name Weekday  Hour    Number\n",
       "0                                     Филёвский Парк      пн     0  0.517691\n",
       "1                                             Щукино      пн     0  0.390682\n",
       "2                                  Нагатинский Затон      пн     0  0.289011\n",
       "3                                        Дмитровский      пн     0  0.276080\n",
       "4                                        Тёплый Стан      пн     0  0.574606\n",
       "5                                            Ховрино      пн     0  1.111829\n",
       "6                                      Ломоносовский      пн     0  0.883905\n",
       "7                                          Можайский      пн     0  0.551371\n",
       "8                                           Строгино      пн     0  0.211781\n",
       "9                                         Крылатское      пн     0  0.555621\n",
       "10                                       Головинский      пн     0  0.473480\n",
       "11                                      Южное Тушино      пн     0  0.326267\n",
       "12                                   Северное Тушино      пн     0  0.528366\n",
       "13                                         Черёмушки      пн     0  0.865810\n",
       "14                              Покровское-Стрешнево      пн     0  0.244338\n",
       "15                                 Хорошёво-Мнёвники      пн     0  0.360023\n",
       "16                               Очаково-Матвеевское      пн     0  0.375439\n",
       "17                                Тропарёво-Никулино      пн     0  0.562203\n",
       "18                                      Левобережный      пн     0  0.609488\n",
       "19                                    Фили-Давыдково      пн     0  0.854535\n",
       "20                                       Обручевский      пн     0  0.664151\n",
       "21                                           Раменки      пн     0  0.853571\n",
       "22                                        Войковский      пн     0  1.114905\n",
       "23                                             Сокол      пн     0  1.500170\n",
       "24                                 Западное Дегунино      пн     0  0.326936\n",
       "25                              Проспект Вернадского      пн     0  0.474075\n",
       "26                                           Ясенево      пн     0  0.172911\n",
       "27                                      Дорогомилово      пн     0  0.719795\n",
       "28                                          Коньково      пн     0  0.960328\n",
       "29                                       Хорошёвский      пн     0  0.986799\n",
       "...                                              ...     ...   ...       ...\n",
       "19458                                         Перово      вс    23  0.853449\n",
       "19459                         Орехово-Борисово Южное      вс    23  0.617613\n",
       "19460                                        Марьино      вс    23  0.677976\n",
       "19461                                        Вешняки      вс    23  0.501795\n",
       "19462                                 Преображенское      вс    23  1.102012\n",
       "19463                                 Соколиная Гора      вс    23  0.666284\n",
       "19464                                        Люблино      вс    23  0.331694\n",
       "19465                                   Текстильщики      вс    23  0.671070\n",
       "19466                                       Братеево      вс    23  0.675180\n",
       "19467                                      Зябликово      вс    23  1.052362\n",
       "19468                                      Рязанский      вс    23  0.520031\n",
       "19469                                      Измайлово      вс    23  0.350064\n",
       "19470                                    Новогиреево      вс    23  0.711912\n",
       "19471                                      Кузьминки      вс    23  0.414599\n",
       "19472                                      Гольяново      вс    23  0.415979\n",
       "19473                             Северное Измайлово      вс    23  0.771887\n",
       "19474                                        Капотня      вс    23  0.066412\n",
       "19475                                Выхино-Жулебино      вс    23  0.518757\n",
       "19476                            Восточное Измайлово      вс    23  0.842080\n",
       "19477                                     Ивановское      вс    23  0.503049\n",
       "19478                                        Кунцево      вс    23  0.343260\n",
       "19479                            Саларьево-Румянцево      вс    23  0.148731\n",
       "19480                                   Южное Бутово      вс    23  0.599573\n",
       "19481                                         Выхино      вс    23  0.634581\n",
       "19482  Мякинино-Волоколамская-Митино-Пятницкое шоссе      вс    23  0.672421\n",
       "19483                       Бульвар Дмитрия Донского      вс    23  1.086324\n",
       "19484                                     Новокосино      вс    23  0.971974\n",
       "19485                           Аэропорт Шереметьево      вс    23  0.057175\n",
       "19486                            Аэропорт Домодедово      вс    23  0.000000\n",
       "19487                               Аэропорт Внуково      вс    23  0.000000\n",
       "\n",
       "[19488 rows x 4 columns]"
      ]
     },
     "execution_count": 522,
     "metadata": {},
     "output_type": "execute_result"
    }
   ],
   "source": [
    "dt_full_actual"
   ]
  },
  {
   "cell_type": "code",
   "execution_count": null,
   "metadata": {
    "collapsed": true
   },
   "outputs": [],
   "source": []
  }
 ],
 "metadata": {
  "kernelspec": {
   "display_name": "Python 3",
   "language": "python",
   "name": "python3"
  },
  "language_info": {
   "codemirror_mode": {
    "name": "ipython",
    "version": 3
   },
   "file_extension": ".py",
   "mimetype": "text/x-python",
   "name": "python",
   "nbconvert_exporter": "python",
   "pygments_lexer": "ipython3",
   "version": "3.5.1"
  }
 },
 "nbformat": 4,
 "nbformat_minor": 0
}
