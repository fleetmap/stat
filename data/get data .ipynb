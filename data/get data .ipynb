{
 "cells": [
  {
   "cell_type": "code",
   "execution_count": 136,
   "metadata": {
    "collapsed": true
   },
   "outputs": [],
   "source": [
    "import pandas as pd\n",
    "import numpy as np\n",
    "import json\n",
    "from matplotlib.path import Path\n",
    "import datetime"
   ]
  },
  {
   "cell_type": "code",
   "execution_count": 361,
   "metadata": {
    "collapsed": true
   },
   "outputs": [],
   "source": [
    "dt = pd.read_csv('Data_3_provs.csv',sep=';')"
   ]
  },
  {
   "cell_type": "code",
   "execution_count": 362,
   "metadata": {
    "collapsed": true
   },
   "outputs": [],
   "source": [
    "dt = dt[dt.Provider != 0]"
   ]
  },
  {
   "cell_type": "code",
   "execution_count": 363,
   "metadata": {
    "collapsed": true
   },
   "outputs": [],
   "source": [
    "dt = dt.reset_index()"
   ]
  },
  {
   "cell_type": "code",
   "execution_count": 27,
   "metadata": {
    "collapsed": false
   },
   "outputs": [],
   "source": [
    "with open('carsharing_map.json', 'r') as outfile:\n",
    "    carsharing_map = json.load(outfile)"
   ]
  },
  {
   "cell_type": "code",
   "execution_count": 46,
   "metadata": {
    "collapsed": false
   },
   "outputs": [],
   "source": [
    "for i in range(len(carsharing_map['features'])):\n",
    "    names.append(carsharing_map['features'][i]['properties']['NAME'])"
   ]
  },
  {
   "cell_type": "code",
   "execution_count": 468,
   "metadata": {
    "collapsed": true
   },
   "outputs": [],
   "source": [
    "# рыба для конечного результата\n",
    "df = pd.DataFrame({'MO_Name':names,'Weekday':np.nan,'Hour':np.nan})\n",
    "\n",
    "weekdays = ['пн','вт','ср','чт','пт','сб','вс']\n",
    "\n",
    "dt_full = pd.DataFrame(columns={'MO_Name','Weekday','Hour'})\n",
    "\n",
    "for weekday in weekdays:\n",
    "    for hour in range(24):\n",
    "        df['Weekday'] = weekday\n",
    "        df['Hour'] = hour\n",
    "        dt_full = pd.concat([dt_full, df])\n",
    "\n",
    "dt_full['Number'] = np.random.uniform(low=0,high=100,size=dt_full.shape[0])\n",
    "dt_full = dt_full[['MO_Name','Weekday','Hour','Number']]\n",
    "dt_full.to_csv('sample_data_result.csv',index=False,sep=';')"
   ]
  },
  {
   "cell_type": "markdown",
   "metadata": {},
   "source": [
    "# данные для анализа"
   ]
  },
  {
   "cell_type": "code",
   "execution_count": 366,
   "metadata": {
    "collapsed": false
   },
   "outputs": [
    {
     "data": {
      "text/html": [
       "<div>\n",
       "<table border=\"1\" class=\"dataframe\">\n",
       "  <thead>\n",
       "    <tr style=\"text-align: right;\">\n",
       "      <th></th>\n",
       "      <th>index</th>\n",
       "      <th>Provider</th>\n",
       "      <th>Group</th>\n",
       "      <th>Longitude</th>\n",
       "      <th>StartTime</th>\n",
       "      <th>EndTime</th>\n",
       "      <th>Latitude</th>\n",
       "      <th>MinEpooch</th>\n",
       "      <th>MaxEpoch</th>\n",
       "    </tr>\n",
       "  </thead>\n",
       "  <tbody>\n",
       "    <tr>\n",
       "      <th>168</th>\n",
       "      <td>1455763</td>\n",
       "      <td>1</td>\n",
       "      <td>2553</td>\n",
       "      <td>37.610218</td>\n",
       "      <td>2016-02-18 00:28:21.737</td>\n",
       "      <td>2016-02-18 05:59:41.237</td>\n",
       "      <td>55.653446</td>\n",
       "      <td>30514</td>\n",
       "      <td>30624</td>\n",
       "    </tr>\n",
       "    <tr>\n",
       "      <th>169</th>\n",
       "      <td>1455764</td>\n",
       "      <td>1</td>\n",
       "      <td>2554</td>\n",
       "      <td>37.610138</td>\n",
       "      <td>2016-02-18 06:11:42.990</td>\n",
       "      <td>2016-02-18 13:38:12.500</td>\n",
       "      <td>55.653488</td>\n",
       "      <td>30628</td>\n",
       "      <td>30776</td>\n",
       "    </tr>\n",
       "    <tr>\n",
       "      <th>170</th>\n",
       "      <td>1455765</td>\n",
       "      <td>1</td>\n",
       "      <td>2555</td>\n",
       "      <td>37.785305</td>\n",
       "      <td>2016-02-18 16:03:00.683</td>\n",
       "      <td>2016-02-18 16:45:16.857</td>\n",
       "      <td>55.748455</td>\n",
       "      <td>30824</td>\n",
       "      <td>30838</td>\n",
       "    </tr>\n",
       "    <tr>\n",
       "      <th>171</th>\n",
       "      <td>1455766</td>\n",
       "      <td>1</td>\n",
       "      <td>2556</td>\n",
       "      <td>37.776054</td>\n",
       "      <td>2016-02-18 17:27:31.890</td>\n",
       "      <td>2016-02-19 03:27:23.177</td>\n",
       "      <td>55.746761</td>\n",
       "      <td>30852</td>\n",
       "      <td>31051</td>\n",
       "    </tr>\n",
       "    <tr>\n",
       "      <th>172</th>\n",
       "      <td>1455767</td>\n",
       "      <td>1</td>\n",
       "      <td>2557</td>\n",
       "      <td>37.772121</td>\n",
       "      <td>2016-02-19 03:45:29.040</td>\n",
       "      <td>2016-02-19 14:55:31.493</td>\n",
       "      <td>55.757855</td>\n",
       "      <td>31057</td>\n",
       "      <td>31279</td>\n",
       "    </tr>\n",
       "  </tbody>\n",
       "</table>\n",
       "</div>"
      ],
      "text/plain": [
       "       index  Provider  Group  Longitude               StartTime  \\\n",
       "168  1455763         1   2553  37.610218 2016-02-18 00:28:21.737   \n",
       "169  1455764         1   2554  37.610138 2016-02-18 06:11:42.990   \n",
       "170  1455765         1   2555  37.785305 2016-02-18 16:03:00.683   \n",
       "171  1455766         1   2556  37.776054 2016-02-18 17:27:31.890   \n",
       "172  1455767         1   2557  37.772121 2016-02-19 03:45:29.040   \n",
       "\n",
       "                    EndTime   Latitude  MinEpooch  MaxEpoch  \n",
       "168 2016-02-18 05:59:41.237  55.653446      30514     30624  \n",
       "169 2016-02-18 13:38:12.500  55.653488      30628     30776  \n",
       "170 2016-02-18 16:45:16.857  55.748455      30824     30838  \n",
       "171 2016-02-19 03:27:23.177  55.746761      30852     31051  \n",
       "172 2016-02-19 14:55:31.493  55.757855      31057     31279  "
      ]
     },
     "execution_count": 366,
     "metadata": {},
     "output_type": "execute_result"
    }
   ],
   "source": [
    "dt.head()"
   ]
  },
  {
   "cell_type": "code",
   "execution_count": null,
   "metadata": {
    "collapsed": true
   },
   "outputs": [],
   "source": [
    "dt.StartTime = pd.to_datetime(dt.StartTime, format='%Y-%m-%d %H:%M:%S.%f')\n",
    "dt.EndTime = pd.to_datetime(dt.EndTime, format='%Y-%m-%d %H:%M:%S.%f')"
   ]
  },
  {
   "cell_type": "code",
   "execution_count": 365,
   "metadata": {
    "collapsed": true
   },
   "outputs": [],
   "source": [
    "dt = dt[dt.StartTime > pd.to_datetime('2016-02-18',format ='%Y-%m-%d')]"
   ]
  },
  {
   "cell_type": "code",
   "execution_count": null,
   "metadata": {
    "collapsed": true
   },
   "outputs": [],
   "source": [
    "dt['HourStart'] = dt.StartTime.dt.hour\n",
    "dt['HourEnd'] = dt.EndTime.dt.hour\n",
    "\n",
    "dt['WeekdayStart'] = dt.StartTime.dt.weekday + 1\n",
    "dt['WeekdayEnd'] = dt.EndTime.dt.weekday + 1"
   ]
  },
  {
   "cell_type": "code",
   "execution_count": null,
   "metadata": {
    "collapsed": true
   },
   "outputs": [],
   "source": [
    "dt['timediff'] = dt['EndTime']-dt['StartTime']"
   ]
  },
  {
   "cell_type": "code",
   "execution_count": 262,
   "metadata": {
    "collapsed": false
   },
   "outputs": [
    {
     "data": {
      "text/plain": [
       "Timedelta('21 days 09:52:21.230000')"
      ]
     },
     "execution_count": 262,
     "metadata": {},
     "output_type": "execute_result"
    }
   ],
   "source": [
    "dt['timediff'].max()"
   ]
  },
  {
   "cell_type": "code",
   "execution_count": 367,
   "metadata": {
    "collapsed": true
   },
   "outputs": [],
   "source": [
    "# восстановить район по координатам\n",
    "def get_polygons(geojson):\n",
    "    # функция возвращает многоугольники районов\n",
    "    polygons = []\n",
    "    for AO_num in range(len(geojson['features'])):\n",
    "        AO_name = geojson['features'][AO_num]['properties']['NAME']\n",
    "        AO_borders = geojson['features'][AO_num]['geometry']['coordinates']\n",
    "        AO_num_polygons = len(AO_borders)\n",
    "        # для каждого многоугольника в районе делаем лист ['название района','лист с координатами'],\n",
    "        # добавляем в общий список\n",
    "        for plg in range(AO_num_polygons):\n",
    "            if AO_num_polygons == 1:\n",
    "                plg_coordinates = [AO_name, AO_borders[plg]]\n",
    "            else:\n",
    "                plg_coordinates = [AO_name, AO_borders[plg][0]]\n",
    "            polygons.append(plg_coordinates)\n",
    "    return polygons"
   ]
  },
  {
   "cell_type": "code",
   "execution_count": 368,
   "metadata": {
    "collapsed": true
   },
   "outputs": [],
   "source": [
    "polygons = get_polygons(carsharing_map)\n",
    "polygons = [[i[0],Path(i[1])] for i in polygons]"
   ]
  },
  {
   "cell_type": "code",
   "execution_count": 369,
   "metadata": {
    "collapsed": true
   },
   "outputs": [],
   "source": [
    "def get_dot_region(dot, polygons):\n",
    "    # функция возвращает район для точки\n",
    "    # dot: [longitude,latitude]\n",
    "    regions = []\n",
    "    for reg in polygons:\n",
    "        if reg[1].contains_point([dot['Longitude'], dot['Latitude']]):\n",
    "            regions.append(reg[0])\n",
    "            break\n",
    "    if regions == []:\n",
    "        regions.append('Другой')\n",
    "    return regions"
   ]
  },
  {
   "cell_type": "code",
   "execution_count": 370,
   "metadata": {
    "collapsed": false
   },
   "outputs": [
    {
     "name": "stdout",
     "output_type": "stream",
     "text": [
      "0:06:03.060693\n"
     ]
    }
   ],
   "source": [
    "# добавляем название района к точке \n",
    "# dt['AO_name'] = np.nan\n",
    "st = datetime.datetime.now()\n",
    "dt['MO_name'] = dt.ix[:,['Longitude','Latitude']].apply(lambda x: get_dot_region(x, polygons), axis=1)\n",
    "en = datetime.datetime.now() - st\n",
    "print(en)"
   ]
  },
  {
   "cell_type": "code",
   "execution_count": 371,
   "metadata": {
    "collapsed": true
   },
   "outputs": [],
   "source": [
    "dt.MO_name = dt.MO_name.apply(lambda x: str(x).replace('[','').replace(']','').replace(\"'\",''))"
   ]
  },
  {
   "cell_type": "code",
   "execution_count": 379,
   "metadata": {
    "collapsed": false
   },
   "outputs": [
    {
     "data": {
      "text/html": [
       "<div>\n",
       "<table border=\"1\" class=\"dataframe\">\n",
       "  <thead>\n",
       "    <tr style=\"text-align: right;\">\n",
       "      <th></th>\n",
       "      <th>index</th>\n",
       "      <th>Provider</th>\n",
       "      <th>Group</th>\n",
       "      <th>Longitude</th>\n",
       "      <th>StartTime</th>\n",
       "      <th>EndTime</th>\n",
       "      <th>Latitude</th>\n",
       "      <th>MinEpooch</th>\n",
       "      <th>MaxEpoch</th>\n",
       "      <th>MO_name</th>\n",
       "    </tr>\n",
       "  </thead>\n",
       "  <tbody>\n",
       "    <tr>\n",
       "      <th>0</th>\n",
       "      <td>168</td>\n",
       "      <td>1</td>\n",
       "      <td>2553</td>\n",
       "      <td>37.610218</td>\n",
       "      <td>2016-02-18 00:28:21.737</td>\n",
       "      <td>2016-02-18 05:59:41.237</td>\n",
       "      <td>55.653446</td>\n",
       "      <td>30514</td>\n",
       "      <td>30624</td>\n",
       "      <td>Нагорный</td>\n",
       "    </tr>\n",
       "    <tr>\n",
       "      <th>1</th>\n",
       "      <td>169</td>\n",
       "      <td>1</td>\n",
       "      <td>2554</td>\n",
       "      <td>37.610138</td>\n",
       "      <td>2016-02-18 06:11:42.990</td>\n",
       "      <td>2016-02-18 13:38:12.500</td>\n",
       "      <td>55.653488</td>\n",
       "      <td>30628</td>\n",
       "      <td>30776</td>\n",
       "      <td>Нагорный</td>\n",
       "    </tr>\n",
       "    <tr>\n",
       "      <th>2</th>\n",
       "      <td>170</td>\n",
       "      <td>1</td>\n",
       "      <td>2555</td>\n",
       "      <td>37.785305</td>\n",
       "      <td>2016-02-18 16:03:00.683</td>\n",
       "      <td>2016-02-18 16:45:16.857</td>\n",
       "      <td>55.748455</td>\n",
       "      <td>30824</td>\n",
       "      <td>30838</td>\n",
       "      <td>Перово</td>\n",
       "    </tr>\n",
       "    <tr>\n",
       "      <th>3</th>\n",
       "      <td>171</td>\n",
       "      <td>1</td>\n",
       "      <td>2556</td>\n",
       "      <td>37.776054</td>\n",
       "      <td>2016-02-18 17:27:31.890</td>\n",
       "      <td>2016-02-19 03:27:23.177</td>\n",
       "      <td>55.746761</td>\n",
       "      <td>30852</td>\n",
       "      <td>31051</td>\n",
       "      <td>Перово</td>\n",
       "    </tr>\n",
       "    <tr>\n",
       "      <th>4</th>\n",
       "      <td>172</td>\n",
       "      <td>1</td>\n",
       "      <td>2557</td>\n",
       "      <td>37.772121</td>\n",
       "      <td>2016-02-19 03:45:29.040</td>\n",
       "      <td>2016-02-19 14:55:31.493</td>\n",
       "      <td>55.757855</td>\n",
       "      <td>31057</td>\n",
       "      <td>31279</td>\n",
       "      <td>Перово</td>\n",
       "    </tr>\n",
       "  </tbody>\n",
       "</table>\n",
       "</div>"
      ],
      "text/plain": [
       "   index  Provider  Group  Longitude               StartTime  \\\n",
       "0    168         1   2553  37.610218 2016-02-18 00:28:21.737   \n",
       "1    169         1   2554  37.610138 2016-02-18 06:11:42.990   \n",
       "2    170         1   2555  37.785305 2016-02-18 16:03:00.683   \n",
       "3    171         1   2556  37.776054 2016-02-18 17:27:31.890   \n",
       "4    172         1   2557  37.772121 2016-02-19 03:45:29.040   \n",
       "\n",
       "                  EndTime   Latitude  MinEpooch  MaxEpoch   MO_name  \n",
       "0 2016-02-18 05:59:41.237  55.653446      30514     30624  Нагорный  \n",
       "1 2016-02-18 13:38:12.500  55.653488      30628     30776  Нагорный  \n",
       "2 2016-02-18 16:45:16.857  55.748455      30824     30838    Перово  \n",
       "3 2016-02-19 03:27:23.177  55.746761      30852     31051    Перово  \n",
       "4 2016-02-19 14:55:31.493  55.757855      31057     31279    Перово  "
      ]
     },
     "execution_count": 379,
     "metadata": {},
     "output_type": "execute_result"
    }
   ],
   "source": [
    "dt = dt.reset_index()\n",
    "dt.head()"
   ]
  },
  {
   "cell_type": "code",
   "execution_count": 375,
   "metadata": {
    "collapsed": true
   },
   "outputs": [],
   "source": [
    "def get_time_intervals(start, end, reg):\n",
    "    st = start - datetime.timedelta(minutes=start.minute,\n",
    "                           seconds=start.second,\n",
    "                           microseconds=start.microsecond)\n",
    "    en = end - datetime.timedelta(minutes=end.minute,\n",
    "                             seconds=end.second,\n",
    "                             microseconds=end.microsecond)\n",
    "    step = datetime.timedelta(hours=1)\n",
    "    \n",
    "    result = []\n",
    "    while st < en:\n",
    "        result.append((reg,st.weekday()+1,st.hour))\n",
    "        st += step\n",
    "    \n",
    "    return result"
   ]
  },
  {
   "cell_type": "code",
   "execution_count": 380,
   "metadata": {
    "collapsed": false
   },
   "outputs": [
    {
     "name": "stdout",
     "output_type": "stream",
     "text": [
      "Wall time: 18.2 s\n"
     ]
    }
   ],
   "source": [
    "%%time\n",
    "# собираем общую таблицу\n",
    "r = []\n",
    "for row in range(dt.shape[0]):\n",
    "    r.append(get_time_intervals(dt['StartTime'][row], dt['EndTime'][row], dt['MO_name'][row]))"
   ]
  },
  {
   "cell_type": "code",
   "execution_count": 381,
   "metadata": {
    "collapsed": false
   },
   "outputs": [
    {
     "name": "stdout",
     "output_type": "stream",
     "text": [
      "10000\n",
      "20000\n",
      "30000\n",
      "40000\n",
      "50000\n",
      "60000\n",
      "70000\n",
      "80000\n",
      "90000\n",
      "100000\n",
      "110000\n",
      "120000\n",
      "130000\n",
      "140000\n",
      "150000\n",
      "160000\n",
      "Wall time: 5min 19s\n"
     ]
    }
   ],
   "source": [
    "%%time\n",
    "list_10k = []\n",
    "n = 0\n",
    "while n < len(r):\n",
    "    result_dt = pd.DataFrame(columns={'MO_name','Weekday','Hour'})\n",
    "    for d in r[n:n+1000]:\n",
    "        \n",
    "        result_dt = pd.concat([result_dt, pd.DataFrame(r[n], columns={'MO_name','Weekday','Hour'})])\n",
    "        n += 1\n",
    "    #     for row in d:\n",
    "    #         result_dt = result_dt.append(pd.DataFrame({'MO_name':[row[0]],'Weekday':[row[1]],'Hour':[row[2]]}))\n",
    "    list_10k.append(result_dt)\n",
    "    if n %10000==0:\n",
    "        print(n)"
   ]
  },
  {
   "cell_type": "code",
   "execution_count": 382,
   "metadata": {
    "collapsed": true
   },
   "outputs": [],
   "source": [
    "\n",
    "result_dt = pd.DataFrame(columns={'MO_name','Weekday','Hour'})\n",
    "for frame in list_10k:\n",
    "    result_dt = result_dt.append(frame)"
   ]
  },
  {
   "cell_type": "code",
   "execution_count": 383,
   "metadata": {
    "collapsed": true
   },
   "outputs": [],
   "source": [
    "result_dt.columns = ['MO_name','Weekday','Hour']"
   ]
  },
  {
   "cell_type": "code",
   "execution_count": 354,
   "metadata": {
    "collapsed": true
   },
   "outputs": [],
   "source": [
    "result_dt_gr = result_dt.groupby(['MO_name','Weekday','Hour']).size().reset_index()"
   ]
  },
  {
   "cell_type": "code",
   "execution_count": 384,
   "metadata": {
    "collapsed": false
   },
   "outputs": [],
   "source": [
    "result_dt_gr.columns = ['MO_name','Weekday','Hour','Count']"
   ]
  },
  {
   "cell_type": "code",
   "execution_count": 401,
   "metadata": {
    "collapsed": false
   },
   "outputs": [],
   "source": [
    "minDate = dt.StartTime.min()\n",
    "maxDate = dt.StartTime.max()"
   ]
  },
  {
   "cell_type": "code",
   "execution_count": 410,
   "metadata": {
    "collapsed": true
   },
   "outputs": [],
   "source": [
    "t = pd.DataFrame(get_time_intervals(minDate, maxDate, 'reg'))\n",
    "t.columns=['c','Weekday','Hour']\n",
    "del t['c']\n",
    "\n",
    "t=t.groupby(['Weekday','Hour']).size().reset_index()\n",
    "t.columns = ['Weekday','Hour','N']"
   ]
  },
  {
   "cell_type": "code",
   "execution_count": 419,
   "metadata": {
    "collapsed": false
   },
   "outputs": [],
   "source": [
    "result_dt_gr = pd.merge(result_dt_gr, t, on = ['Weekday','Hour'], how= 'left')"
   ]
  },
  {
   "cell_type": "code",
   "execution_count": 421,
   "metadata": {
    "collapsed": true
   },
   "outputs": [],
   "source": [
    "def reproject(latitude, longitude):\n",
    "    \"\"\"Returns the x & y coordinates in meters using a sinusoidal projection\"\"\"\n",
    "    from math import pi, cos, radians\n",
    "    earth_radius = 6371009 # in meters\n",
    "    lat_dist = pi * earth_radius / 180.0\n",
    "\n",
    "    y = [lat * lat_dist for lat in latitude]\n",
    "    x = [long * lat_dist * cos(radians(lat)) \n",
    "                for lat, long in zip(latitude, longitude)]\n",
    "    return x, y\n",
    "\n",
    "def area_of_polygon(x, y):\n",
    "    # возвращаем площадь полигода в квадратных километрах\n",
    "    area = 0.0\n",
    "    for i in range(-1, len(x)-1):\n",
    "        area += x[i] * (y[i+1] - y[i-1])\n",
    "    return abs(area) / 2.0 / 10 ** 6"
   ]
  },
  {
   "cell_type": "code",
   "execution_count": 422,
   "metadata": {
    "collapsed": true
   },
   "outputs": [],
   "source": [
    "Sq = []\n",
    "for mo in range(len(carsharing_map['features'])):\n",
    "    \n",
    "    coords = pd.DataFrame(carsharing_map['features'][mo]['geometry']['coordinates'][0],columns = {'long','lat'})\n",
    "\n",
    "    x,y=reproject(coords['lat'], coords['long'])\n",
    "    S = area_of_polygon(x,y)\n",
    "    Sq.append((carsharing_map['features'][mo]['properties']['NAME'],S))\n",
    "    \n",
    "Sq = pd.DataFrame(Sq,columns = {'MO_name','km_sq'})"
   ]
  },
  {
   "cell_type": "code",
   "execution_count": 426,
   "metadata": {
    "collapsed": true
   },
   "outputs": [],
   "source": [
    "result_dt_gr = pd.merge(result_dt_gr,Sq, on ='MO_name', how='left')"
   ]
  },
  {
   "cell_type": "code",
   "execution_count": 461,
   "metadata": {
    "collapsed": false
   },
   "outputs": [
    {
     "data": {
      "text/html": [
       "<div>\n",
       "<table border=\"1\" class=\"dataframe\">\n",
       "  <thead>\n",
       "    <tr style=\"text-align: right;\">\n",
       "      <th></th>\n",
       "      <th>MO_Name</th>\n",
       "      <th>Weekday</th>\n",
       "      <th>Hour</th>\n",
       "      <th>Number</th>\n",
       "    </tr>\n",
       "  </thead>\n",
       "  <tbody>\n",
       "    <tr>\n",
       "      <th>0</th>\n",
       "      <td>Академический</td>\n",
       "      <td>пн</td>\n",
       "      <td>0</td>\n",
       "      <td>0.907424</td>\n",
       "    </tr>\n",
       "    <tr>\n",
       "      <th>1</th>\n",
       "      <td>Академический</td>\n",
       "      <td>пн</td>\n",
       "      <td>1</td>\n",
       "      <td>0.938714</td>\n",
       "    </tr>\n",
       "    <tr>\n",
       "      <th>2</th>\n",
       "      <td>Академический</td>\n",
       "      <td>пн</td>\n",
       "      <td>2</td>\n",
       "      <td>0.907424</td>\n",
       "    </tr>\n",
       "    <tr>\n",
       "      <th>3</th>\n",
       "      <td>Академический</td>\n",
       "      <td>пн</td>\n",
       "      <td>3</td>\n",
       "      <td>0.876134</td>\n",
       "    </tr>\n",
       "    <tr>\n",
       "      <th>4</th>\n",
       "      <td>Академический</td>\n",
       "      <td>пн</td>\n",
       "      <td>4</td>\n",
       "      <td>0.829198</td>\n",
       "    </tr>\n",
       "  </tbody>\n",
       "</table>\n",
       "</div>"
      ],
      "text/plain": [
       "         MO_Name Weekday  Hour    Number\n",
       "0  Академический      пн     0  0.907424\n",
       "1  Академический      пн     1  0.938714\n",
       "2  Академический      пн     2  0.907424\n",
       "3  Академический      пн     3  0.876134\n",
       "4  Академический      пн     4  0.829198"
      ]
     },
     "execution_count": 461,
     "metadata": {},
     "output_type": "execute_result"
    }
   ],
   "source": [
    "result_dt_gr.head()"
   ]
  },
  {
   "cell_type": "code",
   "execution_count": null,
   "metadata": {
    "collapsed": true
   },
   "outputs": [],
   "source": [
    "result_dt_gr['Number'] = result_dt_gr['Count'] / result_dt_gr['N'] / result_dt_gr['km_sq']"
   ]
  },
  {
   "cell_type": "code",
   "execution_count": null,
   "metadata": {
    "collapsed": true
   },
   "outputs": [],
   "source": [
    "result_dt_gr = result_dt_gr[['MO_name','Weekday','Hour','Number']]\n",
    "result_dt_gr.columns = ['MO_Name','Weekday','Hour','Number']"
   ]
  },
  {
   "cell_type": "code",
   "execution_count": 460,
   "metadata": {
    "collapsed": true
   },
   "outputs": [],
   "source": [
    "result_dt_gr.Weekday = result_dt_gr.Weekday.map({1:'пн',2:'вт',3:'ср',4:'чт',5:'пт',6:'сб',7:'вс'})"
   ]
  },
  {
   "cell_type": "code",
   "execution_count": 434,
   "metadata": {
    "collapsed": false
   },
   "outputs": [
    {
     "data": {
      "text/plain": [
       "0.7104337049216217"
      ]
     },
     "execution_count": 434,
     "metadata": {},
     "output_type": "execute_result"
    }
   ],
   "source": [
    "np.mean(result_dt_gr.Number)"
   ]
  },
  {
   "cell_type": "code",
   "execution_count": 462,
   "metadata": {
    "collapsed": false
   },
   "outputs": [],
   "source": [
    "dt_full_actual = pd.merge(dt_full.ix[:,:3], result_dt_gr, how = 'left', on = ['MO_Name','Weekday','Hour'])"
   ]
  },
  {
   "cell_type": "code",
   "execution_count": 465,
   "metadata": {
    "collapsed": false
   },
   "outputs": [],
   "source": [
    "# dt_full_actual\n",
    "dt_full_actual.fillna(0,inplace=True)"
   ]
  },
  {
   "cell_type": "code",
   "execution_count": 467,
   "metadata": {
    "collapsed": true
   },
   "outputs": [],
   "source": [
    "dt_full_actual.to_csv('real_data_result.csv',index=False,sep=';')"
   ]
  },
  {
   "cell_type": "code",
   "execution_count": null,
   "metadata": {
    "collapsed": true
   },
   "outputs": [],
   "source": []
  }
 ],
 "metadata": {
  "kernelspec": {
   "display_name": "Python 3",
   "language": "python",
   "name": "python3"
  },
  "language_info": {
   "codemirror_mode": {
    "name": "ipython",
    "version": 3
   },
   "file_extension": ".py",
   "mimetype": "text/x-python",
   "name": "python",
   "nbconvert_exporter": "python",
   "pygments_lexer": "ipython3",
   "version": "3.5.1"
  }
 },
 "nbformat": 4,
 "nbformat_minor": 0
}
